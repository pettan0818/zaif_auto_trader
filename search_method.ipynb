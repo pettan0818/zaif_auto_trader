{
 "cells": [
  {
   "cell_type": "code",
   "execution_count": 1,
   "metadata": {
    "ExecuteTime": {
     "end_time": "2017-06-30T09:27:14.724402Z",
     "start_time": "2017-06-30T09:27:14.712022Z"
    },
    "collapsed": true
   },
   "outputs": [],
   "source": [
    "import pandas\n",
    "import sqlalchemy\n",
    "from matplotlib import pyplot\n",
    "import seaborn\n",
    "import sklearn\n",
    "import warnings\n",
    "\n",
    "%matplotlib inline"
   ]
  },
  {
   "cell_type": "code",
   "execution_count": 2,
   "metadata": {
    "collapsed": true
   },
   "outputs": [],
   "source": [
    "warnings.filterwarnings(\"ignore\")"
   ]
  },
  {
   "cell_type": "code",
   "execution_count": 3,
   "metadata": {
    "ExecuteTime": {
     "end_time": "2017-06-30T09:27:15.109984Z",
     "start_time": "2017-06-30T09:27:15.058991Z"
    },
    "collapsed": true
   },
   "outputs": [],
   "source": [
    "con = sqlalchemy.create_engine(\"\"\"sqlite:///tester.db\"\"\")\n",
    "data = pandas.read_sql_query(\"\"\"SELECT * FROM zaif_ticker\"\"\", con )\n",
    "del data[\"currency_pair\"]"
   ]
  },
  {
   "cell_type": "code",
   "execution_count": 4,
   "metadata": {
    "ExecuteTime": {
     "end_time": "2017-06-30T09:27:15.325140Z",
     "start_time": "2017-06-30T09:27:15.317675Z"
    },
    "collapsed": true
   },
   "outputs": [],
   "source": [
    "data.index = pandas.to_datetime(data.date)"
   ]
  },
  {
   "cell_type": "code",
   "execution_count": 5,
   "metadata": {},
   "outputs": [
    {
     "data": {
      "text/html": [
       "<div>\n",
       "<style>\n",
       "    .dataframe thead tr:only-child th {\n",
       "        text-align: right;\n",
       "    }\n",
       "\n",
       "    .dataframe thead th {\n",
       "        text-align: left;\n",
       "    }\n",
       "\n",
       "    .dataframe tbody tr th {\n",
       "        vertical-align: top;\n",
       "    }\n",
       "</style>\n",
       "<table border=\"1\" class=\"dataframe\">\n",
       "  <thead>\n",
       "    <tr style=\"text-align: right;\">\n",
       "      <th></th>\n",
       "      <th>index</th>\n",
       "      <th>amount</th>\n",
       "      <th>currenty_pair</th>\n",
       "      <th>date</th>\n",
       "      <th>price</th>\n",
       "      <th>tid</th>\n",
       "      <th>trade_type</th>\n",
       "    </tr>\n",
       "    <tr>\n",
       "      <th>date</th>\n",
       "      <th></th>\n",
       "      <th></th>\n",
       "      <th></th>\n",
       "      <th></th>\n",
       "      <th></th>\n",
       "      <th></th>\n",
       "      <th></th>\n",
       "    </tr>\n",
       "  </thead>\n",
       "  <tbody>\n",
       "    <tr>\n",
       "      <th>2017-07-02 15:07:24</th>\n",
       "      <td>0</td>\n",
       "      <td>0.1000</td>\n",
       "      <td>btc_jpy</td>\n",
       "      <td>2017-07-02 15:07:24.000000</td>\n",
       "      <td>273515.0</td>\n",
       "      <td>57280755</td>\n",
       "      <td>ask</td>\n",
       "    </tr>\n",
       "    <tr>\n",
       "      <th>2017-07-02 15:07:27</th>\n",
       "      <td>0</td>\n",
       "      <td>0.0007</td>\n",
       "      <td>btc_jpy</td>\n",
       "      <td>2017-07-02 15:07:27.000000</td>\n",
       "      <td>273620.0</td>\n",
       "      <td>57280758</td>\n",
       "      <td>bid</td>\n",
       "    </tr>\n",
       "    <tr>\n",
       "      <th>2017-07-02 15:07:26</th>\n",
       "      <td>1</td>\n",
       "      <td>0.0102</td>\n",
       "      <td>btc_jpy</td>\n",
       "      <td>2017-07-02 15:07:26.000000</td>\n",
       "      <td>273540.0</td>\n",
       "      <td>57280757</td>\n",
       "      <td>ask</td>\n",
       "    </tr>\n",
       "    <tr>\n",
       "      <th>2017-07-02 15:07:26</th>\n",
       "      <td>2</td>\n",
       "      <td>0.0007</td>\n",
       "      <td>btc_jpy</td>\n",
       "      <td>2017-07-02 15:07:26.000000</td>\n",
       "      <td>273565.0</td>\n",
       "      <td>57280756</td>\n",
       "      <td>ask</td>\n",
       "    </tr>\n",
       "    <tr>\n",
       "      <th>2017-07-02 15:07:32</th>\n",
       "      <td>0</td>\n",
       "      <td>0.0793</td>\n",
       "      <td>btc_jpy</td>\n",
       "      <td>2017-07-02 15:07:32.000000</td>\n",
       "      <td>273515.0</td>\n",
       "      <td>57280763</td>\n",
       "      <td>ask</td>\n",
       "    </tr>\n",
       "    <tr>\n",
       "      <th>2017-07-02 15:07:31</th>\n",
       "      <td>1</td>\n",
       "      <td>0.0008</td>\n",
       "      <td>btc_jpy</td>\n",
       "      <td>2017-07-02 15:07:31.000000</td>\n",
       "      <td>273540.0</td>\n",
       "      <td>57280762</td>\n",
       "      <td>bid</td>\n",
       "    </tr>\n",
       "    <tr>\n",
       "      <th>2017-07-02 15:07:31</th>\n",
       "      <td>2</td>\n",
       "      <td>0.0008</td>\n",
       "      <td>btc_jpy</td>\n",
       "      <td>2017-07-02 15:07:31.000000</td>\n",
       "      <td>273535.0</td>\n",
       "      <td>57280761</td>\n",
       "      <td>ask</td>\n",
       "    </tr>\n",
       "    <tr>\n",
       "      <th>2017-07-02 15:07:30</th>\n",
       "      <td>3</td>\n",
       "      <td>0.0006</td>\n",
       "      <td>btc_jpy</td>\n",
       "      <td>2017-07-02 15:07:30.000000</td>\n",
       "      <td>273590.0</td>\n",
       "      <td>57280760</td>\n",
       "      <td>ask</td>\n",
       "    </tr>\n",
       "    <tr>\n",
       "      <th>2017-07-02 15:07:30</th>\n",
       "      <td>4</td>\n",
       "      <td>0.0100</td>\n",
       "      <td>btc_jpy</td>\n",
       "      <td>2017-07-02 15:07:30.000000</td>\n",
       "      <td>273610.0</td>\n",
       "      <td>57280759</td>\n",
       "      <td>ask</td>\n",
       "    </tr>\n",
       "    <tr>\n",
       "      <th>2017-07-02 15:07:33</th>\n",
       "      <td>0</td>\n",
       "      <td>0.0100</td>\n",
       "      <td>btc_jpy</td>\n",
       "      <td>2017-07-02 15:07:33.000000</td>\n",
       "      <td>273515.0</td>\n",
       "      <td>57280764</td>\n",
       "      <td>ask</td>\n",
       "    </tr>\n",
       "  </tbody>\n",
       "</table>\n",
       "</div>"
      ],
      "text/plain": [
       "                     index  amount currenty_pair                        date  \\\n",
       "date                                                                           \n",
       "2017-07-02 15:07:24      0  0.1000       btc_jpy  2017-07-02 15:07:24.000000   \n",
       "2017-07-02 15:07:27      0  0.0007       btc_jpy  2017-07-02 15:07:27.000000   \n",
       "2017-07-02 15:07:26      1  0.0102       btc_jpy  2017-07-02 15:07:26.000000   \n",
       "2017-07-02 15:07:26      2  0.0007       btc_jpy  2017-07-02 15:07:26.000000   \n",
       "2017-07-02 15:07:32      0  0.0793       btc_jpy  2017-07-02 15:07:32.000000   \n",
       "2017-07-02 15:07:31      1  0.0008       btc_jpy  2017-07-02 15:07:31.000000   \n",
       "2017-07-02 15:07:31      2  0.0008       btc_jpy  2017-07-02 15:07:31.000000   \n",
       "2017-07-02 15:07:30      3  0.0006       btc_jpy  2017-07-02 15:07:30.000000   \n",
       "2017-07-02 15:07:30      4  0.0100       btc_jpy  2017-07-02 15:07:30.000000   \n",
       "2017-07-02 15:07:33      0  0.0100       btc_jpy  2017-07-02 15:07:33.000000   \n",
       "\n",
       "                        price       tid trade_type  \n",
       "date                                                \n",
       "2017-07-02 15:07:24  273515.0  57280755        ask  \n",
       "2017-07-02 15:07:27  273620.0  57280758        bid  \n",
       "2017-07-02 15:07:26  273540.0  57280757        ask  \n",
       "2017-07-02 15:07:26  273565.0  57280756        ask  \n",
       "2017-07-02 15:07:32  273515.0  57280763        ask  \n",
       "2017-07-02 15:07:31  273540.0  57280762        bid  \n",
       "2017-07-02 15:07:31  273535.0  57280761        ask  \n",
       "2017-07-02 15:07:30  273590.0  57280760        ask  \n",
       "2017-07-02 15:07:30  273610.0  57280759        ask  \n",
       "2017-07-02 15:07:33  273515.0  57280764        ask  "
      ]
     },
     "execution_count": 5,
     "metadata": {},
     "output_type": "execute_result"
    }
   ],
   "source": [
    "data.tail(10)"
   ]
  },
  {
   "cell_type": "code",
   "execution_count": 6,
   "metadata": {
    "ExecuteTime": {
     "end_time": "2017-06-30T09:27:15.587373Z",
     "start_time": "2017-06-30T09:27:15.567498Z"
    },
    "collapsed": true
   },
   "outputs": [],
   "source": [
    "bid_data = data[data.trade_type == \"bid\"]\n",
    "ask_data = data[data.trade_type == \"ask\"]\n",
    "\n",
    "bid_resampled = bid_data.resample(\"10s\").mean().dropna()\n",
    "ask_resampled = ask_data.resample(\"10s\").mean().dropna()"
   ]
  },
  {
   "cell_type": "code",
   "execution_count": 8,
   "metadata": {},
   "outputs": [
    {
     "data": {
      "text/html": [
       "<div>\n",
       "<style>\n",
       "    .dataframe thead tr:only-child th {\n",
       "        text-align: right;\n",
       "    }\n",
       "\n",
       "    .dataframe thead th {\n",
       "        text-align: left;\n",
       "    }\n",
       "\n",
       "    .dataframe tbody tr th {\n",
       "        vertical-align: top;\n",
       "    }\n",
       "</style>\n",
       "<table border=\"1\" class=\"dataframe\">\n",
       "  <thead>\n",
       "    <tr style=\"text-align: right;\">\n",
       "      <th></th>\n",
       "      <th>index</th>\n",
       "      <th>amount</th>\n",
       "      <th>price</th>\n",
       "      <th>tid</th>\n",
       "    </tr>\n",
       "    <tr>\n",
       "      <th>date</th>\n",
       "      <th></th>\n",
       "      <th></th>\n",
       "      <th></th>\n",
       "      <th></th>\n",
       "    </tr>\n",
       "  </thead>\n",
       "  <tbody>\n",
       "    <tr>\n",
       "      <th>2017-07-02 03:07:00</th>\n",
       "      <td>20.0</td>\n",
       "      <td>0.0068</td>\n",
       "      <td>279655.000000</td>\n",
       "      <td>57229992.0</td>\n",
       "    </tr>\n",
       "    <tr>\n",
       "      <th>2017-07-02 03:07:20</th>\n",
       "      <td>19.0</td>\n",
       "      <td>0.0317</td>\n",
       "      <td>279620.000000</td>\n",
       "      <td>57229993.0</td>\n",
       "    </tr>\n",
       "    <tr>\n",
       "      <th>2017-07-02 03:07:40</th>\n",
       "      <td>13.0</td>\n",
       "      <td>0.0051</td>\n",
       "      <td>279631.666667</td>\n",
       "      <td>57230002.0</td>\n",
       "    </tr>\n",
       "    <tr>\n",
       "      <th>2017-07-02 03:07:50</th>\n",
       "      <td>6.0</td>\n",
       "      <td>0.0158</td>\n",
       "      <td>279635.000000</td>\n",
       "      <td>57230010.0</td>\n",
       "    </tr>\n",
       "    <tr>\n",
       "      <th>2017-07-02 03:08:50</th>\n",
       "      <td>0.0</td>\n",
       "      <td>0.0183</td>\n",
       "      <td>279725.000000</td>\n",
       "      <td>57230018.0</td>\n",
       "    </tr>\n",
       "  </tbody>\n",
       "</table>\n",
       "</div>"
      ],
      "text/plain": [
       "                     index  amount          price         tid\n",
       "date                                                         \n",
       "2017-07-02 03:07:00   20.0  0.0068  279655.000000  57229992.0\n",
       "2017-07-02 03:07:20   19.0  0.0317  279620.000000  57229993.0\n",
       "2017-07-02 03:07:40   13.0  0.0051  279631.666667  57230002.0\n",
       "2017-07-02 03:07:50    6.0  0.0158  279635.000000  57230010.0\n",
       "2017-07-02 03:08:50    0.0  0.0183  279725.000000  57230018.0"
      ]
     },
     "execution_count": 8,
     "metadata": {},
     "output_type": "execute_result"
    }
   ],
   "source": [
    "bid_resampled.head()"
   ]
  },
  {
   "cell_type": "code",
   "execution_count": 9,
   "metadata": {},
   "outputs": [
    {
     "data": {
      "text/html": [
       "<div>\n",
       "<style>\n",
       "    .dataframe thead tr:only-child th {\n",
       "        text-align: right;\n",
       "    }\n",
       "\n",
       "    .dataframe thead th {\n",
       "        text-align: left;\n",
       "    }\n",
       "\n",
       "    .dataframe tbody tr th {\n",
       "        vertical-align: top;\n",
       "    }\n",
       "</style>\n",
       "<table border=\"1\" class=\"dataframe\">\n",
       "  <thead>\n",
       "    <tr style=\"text-align: right;\">\n",
       "      <th></th>\n",
       "      <th>index</th>\n",
       "      <th>amount</th>\n",
       "      <th>price</th>\n",
       "      <th>tid</th>\n",
       "    </tr>\n",
       "    <tr>\n",
       "      <th>date</th>\n",
       "      <th></th>\n",
       "      <th></th>\n",
       "      <th></th>\n",
       "      <th></th>\n",
       "    </tr>\n",
       "  </thead>\n",
       "  <tbody>\n",
       "    <tr>\n",
       "      <th>2017-07-02 03:07:20</th>\n",
       "      <td>18.0</td>\n",
       "      <td>0.0035</td>\n",
       "      <td>279570.0</td>\n",
       "      <td>57229997.0</td>\n",
       "    </tr>\n",
       "    <tr>\n",
       "      <th>2017-07-02 03:07:30</th>\n",
       "      <td>17.0</td>\n",
       "      <td>0.0035</td>\n",
       "      <td>279555.0</td>\n",
       "      <td>57229998.0</td>\n",
       "    </tr>\n",
       "    <tr>\n",
       "      <th>2017-07-02 03:07:40</th>\n",
       "      <td>11.5</td>\n",
       "      <td>0.0101</td>\n",
       "      <td>279552.5</td>\n",
       "      <td>57230003.5</td>\n",
       "    </tr>\n",
       "    <tr>\n",
       "      <th>2017-07-02 03:07:50</th>\n",
       "      <td>6.0</td>\n",
       "      <td>0.0035</td>\n",
       "      <td>279600.0</td>\n",
       "      <td>57230010.0</td>\n",
       "    </tr>\n",
       "    <tr>\n",
       "      <th>2017-07-02 03:08:00</th>\n",
       "      <td>4.0</td>\n",
       "      <td>0.0183</td>\n",
       "      <td>279580.0</td>\n",
       "      <td>57230012.0</td>\n",
       "    </tr>\n",
       "  </tbody>\n",
       "</table>\n",
       "</div>"
      ],
      "text/plain": [
       "                     index  amount     price         tid\n",
       "date                                                    \n",
       "2017-07-02 03:07:20   18.0  0.0035  279570.0  57229997.0\n",
       "2017-07-02 03:07:30   17.0  0.0035  279555.0  57229998.0\n",
       "2017-07-02 03:07:40   11.5  0.0101  279552.5  57230003.5\n",
       "2017-07-02 03:07:50    6.0  0.0035  279600.0  57230010.0\n",
       "2017-07-02 03:08:00    4.0  0.0183  279580.0  57230012.0"
      ]
     },
     "execution_count": 9,
     "metadata": {},
     "output_type": "execute_result"
    }
   ],
   "source": [
    "ask_resampled.head()"
   ]
  },
  {
   "cell_type": "code",
   "execution_count": 23,
   "metadata": {},
   "outputs": [
    {
     "data": {
      "text/plain": [
       "count    3208.000000\n",
       "mean       56.193593\n",
       "std        82.604521\n",
       "min      -271.022727\n",
       "25%         5.468254\n",
       "50%        31.139423\n",
       "75%        90.503205\n",
       "max       915.946115\n",
       "dtype: float64"
      ]
     },
     "execution_count": 23,
     "metadata": {},
     "output_type": "execute_result"
    }
   ],
   "source": [
    "price_data  = pandas.concat([bid_resampled[\"price\"], ask_resampled[\"price\"]],axis=1)\n",
    "price_data.columns = [\"bid\", \"ask\"]\n",
    "\n",
    "spread = price_data[\"bid\"] - price_data[\"ask\"]\n",
    "\n",
    "spread.describe()"
   ]
  },
  {
   "cell_type": "code",
   "execution_count": null,
   "metadata": {
    "ExecuteTime": {
     "end_time": "2017-06-30T09:27:15.912017Z",
     "start_time": "2017-06-30T09:27:15.903361Z"
    },
    "collapsed": true
   },
   "outputs": [],
   "source": [
    "# dataset Creation\n",
    "training_data = resampled[:\"2017-07-02 06:30:00\"]\n",
    "test_data = resampled[\"2017-07-02 06:30:00\":]"
   ]
  },
  {
   "cell_type": "code",
   "execution_count": null,
   "metadata": {},
   "outputs": [],
   "source": [
    "resampled[\"price\"].plot()"
   ]
  },
  {
   "cell_type": "code",
   "execution_count": null,
   "metadata": {
    "ExecuteTime": {
     "end_time": "2017-06-30T09:27:16.823404Z",
     "start_time": "2017-06-30T09:27:16.296868Z"
    }
   },
   "outputs": [],
   "source": [
    "test_data[\"price\"].plot()"
   ]
  },
  {
   "cell_type": "code",
   "execution_count": null,
   "metadata": {
    "ExecuteTime": {
     "end_time": "2017-06-30T09:27:17.531900Z",
     "start_time": "2017-06-30T09:27:17.044180Z"
    }
   },
   "outputs": [],
   "source": [
    "training_data[\"price\"].plot()"
   ]
  },
  {
   "cell_type": "code",
   "execution_count": null,
   "metadata": {
    "ExecuteTime": {
     "end_time": "2017-06-30T09:16:50.718539Z",
     "start_time": "2017-06-30T09:16:50.703576Z"
    },
    "collapsed": true
   },
   "outputs": [],
   "source": [
    "rolling_diff_1M = training_data.rolling(6).mean()[\"price\"].diff().dropna()\n",
    "rolling_diff_5M = training_data.rolling(30).mean()[\"price\"].diff().dropna()\n",
    "rolling_diff_10M = training_data.rolling(60).mean()[\"price\"].diff().dropna()"
   ]
  },
  {
   "cell_type": "code",
   "execution_count": null,
   "metadata": {
    "ExecuteTime": {
     "end_time": "2017-06-30T09:20:11.475938Z",
     "start_time": "2017-06-30T09:20:11.467235Z"
    },
    "collapsed": true
   },
   "outputs": [],
   "source": [
    "rolling_diff_df = pandas.concat([rolling_diff_1M, rolling_diff_5M, rolling_diff_10M], axis=1).dropna()\n",
    "rolling_diff_df.columns = [\"1M\", \"5M\", \"10M\"]"
   ]
  },
  {
   "cell_type": "code",
   "execution_count": null,
   "metadata": {
    "ExecuteTime": {
     "end_time": "2017-06-30T09:20:20.269631Z",
     "start_time": "2017-06-30T09:20:19.792435Z"
    }
   },
   "outputs": [],
   "source": [
    "rolling_diff_df.plot()"
   ]
  },
  {
   "cell_type": "code",
   "execution_count": null,
   "metadata": {
    "ExecuteTime": {
     "end_time": "2017-06-30T09:24:27.791349Z",
     "start_time": "2017-06-30T09:24:27.307673Z"
    },
    "scrolled": true
   },
   "outputs": [],
   "source": [
    "rolling_1M = training_data.rolling(6).mean()[\"price\"].dropna()\n",
    "rolling_5M = training_data.rolling(30).mean()[\"price\"].dropna()\n",
    "rolling_10M = training_data.rolling(60).mean()[\"price\"].dropna()\n",
    "\n",
    "rolling_df = pandas.concat([rolling_1M, rolling_5M, rolling_10M], axis=1).dropna()\n",
    "rolling_df.columns = [\"1M\", \"5M\", \"10M\"]\n",
    "\n",
    "rolling_df[rolling_df.trade_type == \"bid\"].plot()"
   ]
  },
  {
   "cell_type": "code",
   "execution_count": null,
   "metadata": {
    "ExecuteTime": {
     "end_time": "2017-06-30T12:34:54.498728Z",
     "start_time": "2017-06-30T12:34:54.438668Z"
    },
    "collapsed": true
   },
   "outputs": [],
   "source": [
    "# Detect Golden Cross / Dead Cross\n",
    "def golden_detect(latest_3_df: pandas.DataFrame) -> bool:\n",
    "    \"\"\"\n",
    "    >>> df = {'10M': {Timestamp('2017-06-30 16:35:20'): 282846.5542856449,\n",
    "  Timestamp('2017-06-30 16:35:30'): 282849.31539675605,\n",
    "  Timestamp('2017-06-30 16:35:40'): 282849.89873008936},\n",
    " '1M': {Timestamp('2017-06-30 16:35:20'): 282971.85019841272,\n",
    "  Timestamp('2017-06-30 16:35:30'): 282930.29464285716,\n",
    "  Timestamp('2017-06-30 16:35:40'): 282899.52083333331},\n",
    " '5M': {Timestamp('2017-06-30 16:35:20'): 282863.28952367074,\n",
    "  Timestamp('2017-06-30 16:35:30'): 282869.81174589298,\n",
    "  Timestamp('2017-06-30 16:35:40'): 282871.70222208346}}\n",
    "    >>> df = pandas.DataFrame.from_dict(df)\n",
    "    >>> golden_detect(df)\n",
    "  \"\"\"\n",
    "    "
   ]
  },
  {
   "cell_type": "code",
   "execution_count": null,
   "metadata": {
    "collapsed": true
   },
   "outputs": [],
   "source": []
  }
 ],
 "metadata": {
  "kernelspec": {
   "display_name": "Python 3",
   "language": "python",
   "name": "python3"
  },
  "language_info": {
   "codemirror_mode": {
    "name": "ipython",
    "version": 3
   },
   "file_extension": ".py",
   "mimetype": "text/x-python",
   "name": "python",
   "nbconvert_exporter": "python",
   "pygments_lexer": "ipython3",
   "version": "3.6.1"
  },
  "nav_menu": {},
  "toc": {
   "navigate_menu": true,
   "number_sections": true,
   "sideBar": true,
   "threshold": 6,
   "toc_cell": false,
   "toc_section_display": "block",
   "toc_window_display": false
  }
 },
 "nbformat": 4,
 "nbformat_minor": 2
}
