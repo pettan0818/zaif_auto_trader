{
 "cells": [
  {
   "cell_type": "code",
   "execution_count": 27,
   "metadata": {
    "ExecuteTime": {
     "end_time": "2017-07-05T10:48:58.874653Z",
     "start_time": "2017-07-05T10:48:58.843985Z"
    },
    "collapsed": true
   },
   "outputs": [],
   "source": [
    "import pandas\n",
    "import sqlalchemy\n",
    "from matplotlib import pyplot\n",
    "import seaborn\n",
    "import sklearn\n",
    "import warnings\n",
    "\n",
    "%matplotlib inline"
   ]
  },
  {
   "cell_type": "code",
   "execution_count": 28,
   "metadata": {
    "ExecuteTime": {
     "end_time": "2017-07-05T10:48:59.379759Z",
     "start_time": "2017-07-05T10:48:59.375174Z"
    },
    "collapsed": true
   },
   "outputs": [],
   "source": [
    "warnings.filterwarnings(\"ignore\")"
   ]
  },
  {
   "cell_type": "code",
   "execution_count": 29,
   "metadata": {
    "ExecuteTime": {
     "end_time": "2017-07-05T10:49:01.437857Z",
     "start_time": "2017-07-05T10:48:59.630279Z"
    },
    "collapsed": true
   },
   "outputs": [],
   "source": [
    "con = sqlalchemy.create_engine(\"\"\"sqlite:////Users/noname/Desktop/tester.db\"\"\")\n",
    "data = pandas.read_sql_query(\"\"\"SELECT * FROM zaif_ticker\"\"\", con )\n",
    "del data[\"currency_pair\"]"
   ]
  },
  {
   "cell_type": "code",
   "execution_count": 30,
   "metadata": {
    "ExecuteTime": {
     "end_time": "2017-07-05T10:49:01.592556Z",
     "start_time": "2017-07-05T10:49:01.440297Z"
    },
    "collapsed": true
   },
   "outputs": [],
   "source": [
    "data.index = pandas.to_datetime(data.date)"
   ]
  },
  {
   "cell_type": "code",
   "execution_count": 31,
   "metadata": {
    "ExecuteTime": {
     "end_time": "2017-07-05T10:49:01.652299Z",
     "start_time": "2017-07-05T10:49:01.596079Z"
    }
   },
   "outputs": [
    {
     "data": {
      "text/html": [
       "<div>\n",
       "<style>\n",
       "    .dataframe thead tr:only-child th {\n",
       "        text-align: right;\n",
       "    }\n",
       "\n",
       "    .dataframe thead th {\n",
       "        text-align: left;\n",
       "    }\n",
       "\n",
       "    .dataframe tbody tr th {\n",
       "        vertical-align: top;\n",
       "    }\n",
       "</style>\n",
       "<table border=\"1\" class=\"dataframe\">\n",
       "  <thead>\n",
       "    <tr style=\"text-align: right;\">\n",
       "      <th></th>\n",
       "      <th>index</th>\n",
       "      <th>amount</th>\n",
       "      <th>currenty_pair</th>\n",
       "      <th>date</th>\n",
       "      <th>price</th>\n",
       "      <th>tid</th>\n",
       "      <th>trade_type</th>\n",
       "    </tr>\n",
       "    <tr>\n",
       "      <th>date</th>\n",
       "      <th></th>\n",
       "      <th></th>\n",
       "      <th></th>\n",
       "      <th></th>\n",
       "      <th></th>\n",
       "      <th></th>\n",
       "      <th></th>\n",
       "    </tr>\n",
       "  </thead>\n",
       "  <tbody>\n",
       "    <tr>\n",
       "      <th>2017-07-05 09:24:21</th>\n",
       "      <td>0</td>\n",
       "      <td>0.0100</td>\n",
       "      <td>btc_jpy</td>\n",
       "      <td>2017-07-05 09:24:21.000000</td>\n",
       "      <td>292500.0</td>\n",
       "      <td>57539964</td>\n",
       "      <td>ask</td>\n",
       "    </tr>\n",
       "    <tr>\n",
       "      <th>2017-07-05 09:24:21</th>\n",
       "      <td>1</td>\n",
       "      <td>0.0826</td>\n",
       "      <td>btc_jpy</td>\n",
       "      <td>2017-07-05 09:24:21.000000</td>\n",
       "      <td>292500.0</td>\n",
       "      <td>57539963</td>\n",
       "      <td>ask</td>\n",
       "    </tr>\n",
       "    <tr>\n",
       "      <th>2017-07-05 09:24:23</th>\n",
       "      <td>0</td>\n",
       "      <td>0.0100</td>\n",
       "      <td>btc_jpy</td>\n",
       "      <td>2017-07-05 09:24:23.000000</td>\n",
       "      <td>292500.0</td>\n",
       "      <td>57539965</td>\n",
       "      <td>ask</td>\n",
       "    </tr>\n",
       "    <tr>\n",
       "      <th>2017-07-05 09:24:26</th>\n",
       "      <td>0</td>\n",
       "      <td>0.0100</td>\n",
       "      <td>btc_jpy</td>\n",
       "      <td>2017-07-05 09:24:26.000000</td>\n",
       "      <td>292500.0</td>\n",
       "      <td>57539967</td>\n",
       "      <td>ask</td>\n",
       "    </tr>\n",
       "    <tr>\n",
       "      <th>2017-07-05 09:24:26</th>\n",
       "      <td>1</td>\n",
       "      <td>0.0626</td>\n",
       "      <td>btc_jpy</td>\n",
       "      <td>2017-07-05 09:24:26.000000</td>\n",
       "      <td>292500.0</td>\n",
       "      <td>57539966</td>\n",
       "      <td>ask</td>\n",
       "    </tr>\n",
       "    <tr>\n",
       "      <th>2017-07-05 09:24:34</th>\n",
       "      <td>0</td>\n",
       "      <td>0.0201</td>\n",
       "      <td>btc_jpy</td>\n",
       "      <td>2017-07-05 09:24:34.000000</td>\n",
       "      <td>292500.0</td>\n",
       "      <td>57539969</td>\n",
       "      <td>ask</td>\n",
       "    </tr>\n",
       "    <tr>\n",
       "      <th>2017-07-05 09:24:33</th>\n",
       "      <td>1</td>\n",
       "      <td>0.0100</td>\n",
       "      <td>btc_jpy</td>\n",
       "      <td>2017-07-05 09:24:33.000000</td>\n",
       "      <td>292500.0</td>\n",
       "      <td>57539968</td>\n",
       "      <td>ask</td>\n",
       "    </tr>\n",
       "    <tr>\n",
       "      <th>2017-07-05 09:24:36</th>\n",
       "      <td>0</td>\n",
       "      <td>0.0206</td>\n",
       "      <td>btc_jpy</td>\n",
       "      <td>2017-07-05 09:24:36.000000</td>\n",
       "      <td>292555.0</td>\n",
       "      <td>57539971</td>\n",
       "      <td>bid</td>\n",
       "    </tr>\n",
       "    <tr>\n",
       "      <th>2017-07-05 09:24:36</th>\n",
       "      <td>1</td>\n",
       "      <td>0.0426</td>\n",
       "      <td>btc_jpy</td>\n",
       "      <td>2017-07-05 09:24:36.000000</td>\n",
       "      <td>292500.0</td>\n",
       "      <td>57539970</td>\n",
       "      <td>ask</td>\n",
       "    </tr>\n",
       "    <tr>\n",
       "      <th>2017-07-05 09:24:37</th>\n",
       "      <td>0</td>\n",
       "      <td>0.0100</td>\n",
       "      <td>btc_jpy</td>\n",
       "      <td>2017-07-05 09:24:37.000000</td>\n",
       "      <td>292500.0</td>\n",
       "      <td>57539972</td>\n",
       "      <td>ask</td>\n",
       "    </tr>\n",
       "  </tbody>\n",
       "</table>\n",
       "</div>"
      ],
      "text/plain": [
       "                     index  amount currenty_pair                        date  \\\n",
       "date                                                                           \n",
       "2017-07-05 09:24:21      0  0.0100       btc_jpy  2017-07-05 09:24:21.000000   \n",
       "2017-07-05 09:24:21      1  0.0826       btc_jpy  2017-07-05 09:24:21.000000   \n",
       "2017-07-05 09:24:23      0  0.0100       btc_jpy  2017-07-05 09:24:23.000000   \n",
       "2017-07-05 09:24:26      0  0.0100       btc_jpy  2017-07-05 09:24:26.000000   \n",
       "2017-07-05 09:24:26      1  0.0626       btc_jpy  2017-07-05 09:24:26.000000   \n",
       "2017-07-05 09:24:34      0  0.0201       btc_jpy  2017-07-05 09:24:34.000000   \n",
       "2017-07-05 09:24:33      1  0.0100       btc_jpy  2017-07-05 09:24:33.000000   \n",
       "2017-07-05 09:24:36      0  0.0206       btc_jpy  2017-07-05 09:24:36.000000   \n",
       "2017-07-05 09:24:36      1  0.0426       btc_jpy  2017-07-05 09:24:36.000000   \n",
       "2017-07-05 09:24:37      0  0.0100       btc_jpy  2017-07-05 09:24:37.000000   \n",
       "\n",
       "                        price       tid trade_type  \n",
       "date                                                \n",
       "2017-07-05 09:24:21  292500.0  57539964        ask  \n",
       "2017-07-05 09:24:21  292500.0  57539963        ask  \n",
       "2017-07-05 09:24:23  292500.0  57539965        ask  \n",
       "2017-07-05 09:24:26  292500.0  57539967        ask  \n",
       "2017-07-05 09:24:26  292500.0  57539966        ask  \n",
       "2017-07-05 09:24:34  292500.0  57539969        ask  \n",
       "2017-07-05 09:24:33  292500.0  57539968        ask  \n",
       "2017-07-05 09:24:36  292555.0  57539971        bid  \n",
       "2017-07-05 09:24:36  292500.0  57539970        ask  \n",
       "2017-07-05 09:24:37  292500.0  57539972        ask  "
      ]
     },
     "execution_count": 31,
     "metadata": {},
     "output_type": "execute_result"
    }
   ],
   "source": [
    "data.tail(10)"
   ]
  },
  {
   "cell_type": "code",
   "execution_count": 32,
   "metadata": {
    "ExecuteTime": {
     "end_time": "2017-07-05T10:49:02.464872Z",
     "start_time": "2017-07-05T10:49:02.078330Z"
    },
    "collapsed": true
   },
   "outputs": [],
   "source": [
    "bid_data = data[data.trade_type == \"bid\"]\n",
    "ask_data = data[data.trade_type == \"ask\"]\n",
    "\n",
    "bid_resampled = bid_data.resample(\"10s\").mean().dropna()\n",
    "ask_resampled = ask_data.resample(\"10s\").mean().dropna()"
   ]
  },
  {
   "cell_type": "code",
   "execution_count": 33,
   "metadata": {
    "ExecuteTime": {
     "end_time": "2017-07-05T10:49:02.623160Z",
     "start_time": "2017-07-05T10:49:02.607742Z"
    }
   },
   "outputs": [
    {
     "data": {
      "text/html": [
       "<div>\n",
       "<style>\n",
       "    .dataframe thead tr:only-child th {\n",
       "        text-align: right;\n",
       "    }\n",
       "\n",
       "    .dataframe thead th {\n",
       "        text-align: left;\n",
       "    }\n",
       "\n",
       "    .dataframe tbody tr th {\n",
       "        vertical-align: top;\n",
       "    }\n",
       "</style>\n",
       "<table border=\"1\" class=\"dataframe\">\n",
       "  <thead>\n",
       "    <tr style=\"text-align: right;\">\n",
       "      <th></th>\n",
       "      <th>index</th>\n",
       "      <th>amount</th>\n",
       "      <th>price</th>\n",
       "      <th>tid</th>\n",
       "    </tr>\n",
       "    <tr>\n",
       "      <th>date</th>\n",
       "      <th></th>\n",
       "      <th></th>\n",
       "      <th></th>\n",
       "      <th></th>\n",
       "    </tr>\n",
       "  </thead>\n",
       "  <tbody>\n",
       "    <tr>\n",
       "      <th>2017-07-02 03:07:00</th>\n",
       "      <td>20.0</td>\n",
       "      <td>0.0068</td>\n",
       "      <td>279655.000000</td>\n",
       "      <td>57229992.0</td>\n",
       "    </tr>\n",
       "    <tr>\n",
       "      <th>2017-07-02 03:07:20</th>\n",
       "      <td>19.0</td>\n",
       "      <td>0.0317</td>\n",
       "      <td>279620.000000</td>\n",
       "      <td>57229993.0</td>\n",
       "    </tr>\n",
       "    <tr>\n",
       "      <th>2017-07-02 03:07:40</th>\n",
       "      <td>13.0</td>\n",
       "      <td>0.0051</td>\n",
       "      <td>279631.666667</td>\n",
       "      <td>57230002.0</td>\n",
       "    </tr>\n",
       "    <tr>\n",
       "      <th>2017-07-02 03:07:50</th>\n",
       "      <td>6.0</td>\n",
       "      <td>0.0158</td>\n",
       "      <td>279635.000000</td>\n",
       "      <td>57230010.0</td>\n",
       "    </tr>\n",
       "    <tr>\n",
       "      <th>2017-07-02 03:08:50</th>\n",
       "      <td>0.0</td>\n",
       "      <td>0.0183</td>\n",
       "      <td>279725.000000</td>\n",
       "      <td>57230018.0</td>\n",
       "    </tr>\n",
       "  </tbody>\n",
       "</table>\n",
       "</div>"
      ],
      "text/plain": [
       "                     index  amount          price         tid\n",
       "date                                                         \n",
       "2017-07-02 03:07:00   20.0  0.0068  279655.000000  57229992.0\n",
       "2017-07-02 03:07:20   19.0  0.0317  279620.000000  57229993.0\n",
       "2017-07-02 03:07:40   13.0  0.0051  279631.666667  57230002.0\n",
       "2017-07-02 03:07:50    6.0  0.0158  279635.000000  57230010.0\n",
       "2017-07-02 03:08:50    0.0  0.0183  279725.000000  57230018.0"
      ]
     },
     "execution_count": 33,
     "metadata": {},
     "output_type": "execute_result"
    }
   ],
   "source": [
    "bid_resampled.head()"
   ]
  },
  {
   "cell_type": "code",
   "execution_count": 8,
   "metadata": {
    "ExecuteTime": {
     "end_time": "2017-07-05T00:27:44.241841Z",
     "start_time": "2017-07-05T00:27:44.216714Z"
    }
   },
   "outputs": [
    {
     "data": {
      "text/html": [
       "<div>\n",
       "<style>\n",
       "    .dataframe thead tr:only-child th {\n",
       "        text-align: right;\n",
       "    }\n",
       "\n",
       "    .dataframe thead th {\n",
       "        text-align: left;\n",
       "    }\n",
       "\n",
       "    .dataframe tbody tr th {\n",
       "        vertical-align: top;\n",
       "    }\n",
       "</style>\n",
       "<table border=\"1\" class=\"dataframe\">\n",
       "  <thead>\n",
       "    <tr style=\"text-align: right;\">\n",
       "      <th></th>\n",
       "      <th>index</th>\n",
       "      <th>amount</th>\n",
       "      <th>price</th>\n",
       "      <th>tid</th>\n",
       "    </tr>\n",
       "    <tr>\n",
       "      <th>date</th>\n",
       "      <th></th>\n",
       "      <th></th>\n",
       "      <th></th>\n",
       "      <th></th>\n",
       "    </tr>\n",
       "  </thead>\n",
       "  <tbody>\n",
       "    <tr>\n",
       "      <th>2017-07-02 03:07:20</th>\n",
       "      <td>18.0</td>\n",
       "      <td>0.0035</td>\n",
       "      <td>279570.0</td>\n",
       "      <td>57229997.0</td>\n",
       "    </tr>\n",
       "    <tr>\n",
       "      <th>2017-07-02 03:07:30</th>\n",
       "      <td>17.0</td>\n",
       "      <td>0.0035</td>\n",
       "      <td>279555.0</td>\n",
       "      <td>57229998.0</td>\n",
       "    </tr>\n",
       "    <tr>\n",
       "      <th>2017-07-02 03:07:40</th>\n",
       "      <td>11.5</td>\n",
       "      <td>0.0101</td>\n",
       "      <td>279552.5</td>\n",
       "      <td>57230003.5</td>\n",
       "    </tr>\n",
       "    <tr>\n",
       "      <th>2017-07-02 03:07:50</th>\n",
       "      <td>6.0</td>\n",
       "      <td>0.0035</td>\n",
       "      <td>279600.0</td>\n",
       "      <td>57230010.0</td>\n",
       "    </tr>\n",
       "    <tr>\n",
       "      <th>2017-07-02 03:08:00</th>\n",
       "      <td>4.0</td>\n",
       "      <td>0.0183</td>\n",
       "      <td>279580.0</td>\n",
       "      <td>57230012.0</td>\n",
       "    </tr>\n",
       "  </tbody>\n",
       "</table>\n",
       "</div>"
      ],
      "text/plain": [
       "                     index  amount     price         tid\n",
       "date                                                    \n",
       "2017-07-02 03:07:20   18.0  0.0035  279570.0  57229997.0\n",
       "2017-07-02 03:07:30   17.0  0.0035  279555.0  57229998.0\n",
       "2017-07-02 03:07:40   11.5  0.0101  279552.5  57230003.5\n",
       "2017-07-02 03:07:50    6.0  0.0035  279600.0  57230010.0\n",
       "2017-07-02 03:08:00    4.0  0.0183  279580.0  57230012.0"
      ]
     },
     "execution_count": 8,
     "metadata": {},
     "output_type": "execute_result"
    }
   ],
   "source": [
    "ask_resampled.head()"
   ]
  },
  {
   "cell_type": "code",
   "execution_count": 9,
   "metadata": {
    "ExecuteTime": {
     "end_time": "2017-07-05T00:27:45.035078Z",
     "start_time": "2017-07-05T00:27:44.247967Z"
    }
   },
   "outputs": [
    {
     "data": {
      "text/plain": [
       "<matplotlib.axes._subplots.AxesSubplot at 0x11603b400>"
      ]
     },
     "execution_count": 9,
     "metadata": {},
     "output_type": "execute_result"
    },
    {
     "data": {
      "image/png": "[encoded data removed]",
      "text/plain": [
       "<matplotlib.figure.Figure at 0x10a4cbd68>"
      ]
     },
     "metadata": {},
     "output_type": "display_data"
    }
   ],
   "source": [
    "bid_resampled[\"price\"].plot()"
   ]
  },
  {
   "cell_type": "code",
   "execution_count": 10,
   "metadata": {
    "ExecuteTime": {
     "end_time": "2017-07-05T00:27:45.743526Z",
     "start_time": "2017-07-05T00:27:45.037473Z"
    }
   },
   "outputs": [
    {
     "data": {
      "text/plain": [
       "<matplotlib.axes._subplots.AxesSubplot at 0x115fb7748>"
      ]
     },
     "execution_count": 10,
     "metadata": {},
     "output_type": "execute_result"
    },
    {
     "data": {
      "image/png": "[encoded data removed]",
      "text/plain": [
       "<matplotlib.figure.Figure at 0x11602e940>"
      ]
     },
     "metadata": {},
     "output_type": "display_data"
    }
   ],
   "source": [
    "ask_resampled[\"price\"].plot()"
   ]
  },
  {
   "cell_type": "code",
   "execution_count": 11,
   "metadata": {
    "ExecuteTime": {
     "end_time": "2017-07-05T00:27:45.787527Z",
     "start_time": "2017-07-05T00:27:45.748129Z"
    }
   },
   "outputs": [
    {
     "data": {
      "text/plain": [
       "count    18234.000000\n",
       "mean        47.131411\n",
       "std         70.897591\n",
       "min       -477.692308\n",
       "25%          5.000000\n",
       "50%         25.833333\n",
       "75%         71.795093\n",
       "max       1320.108696\n",
       "dtype: float64"
      ]
     },
     "execution_count": 11,
     "metadata": {},
     "output_type": "execute_result"
    }
   ],
   "source": [
    "price_data  = pandas.concat([bid_resampled[\"price\"], ask_resampled[\"price\"]],axis=1)\n",
    "price_data.columns = [\"bid\", \"ask\"]\n",
    "\n",
    "spread = price_data[\"bid\"] - price_data[\"ask\"]\n",
    "\n",
    "spread.describe()"
   ]
  },
  {
   "cell_type": "code",
   "execution_count": 12,
   "metadata": {
    "ExecuteTime": {
     "end_time": "2017-07-05T00:27:46.368169Z",
     "start_time": "2017-07-05T00:27:45.792697Z"
    }
   },
   "outputs": [
    {
     "data": {
      "text/plain": [
       "<matplotlib.axes._subplots.AxesSubplot at 0x115ef7d30>"
      ]
     },
     "execution_count": 12,
     "metadata": {},
     "output_type": "execute_result"
    },
    {
     "data": {
      "image/png": "[encoded data removed]",
      "text/plain": [
       "<matplotlib.figure.Figure at 0x116040898>"
      ]
     },
     "metadata": {},
     "output_type": "display_data"
    }
   ],
   "source": [
    "seaborn.distplot(spread.dropna())"
   ]
  },
  {
   "cell_type": "code",
   "execution_count": 25,
   "metadata": {
    "ExecuteTime": {
     "end_time": "2017-07-05T00:28:25.257804Z",
     "start_time": "2017-07-05T00:28:25.242945Z"
    },
    "collapsed": true
   },
   "outputs": [],
   "source": [
    "out = spread.dropna()[spread.dropna() < 250][spread.dropna() > -250]"
   ]
  },
  {
   "cell_type": "code",
   "execution_count": 26,
   "metadata": {
    "ExecuteTime": {
     "end_time": "2017-07-05T00:28:26.021612Z",
     "start_time": "2017-07-05T00:28:25.704572Z"
    }
   },
   "outputs": [
    {
     "data": {
      "text/plain": [
       "((array([-3.95170353, -3.73414592, -3.61503959, ...,  3.61503959,\n",
       "          3.73414592,  3.95170353]),\n",
       "  array([-242.95454545, -234.91421569, -228.30357143, ...,  248.625     ,\n",
       "          249.33333333,  249.5       ])),\n",
       " (53.814523555017075, 41.394996388691538, 0.95116174862724479))"
      ]
     },
     "execution_count": 26,
     "metadata": {},
     "output_type": "execute_result"
    },
    {
     "data": {
      "image/png": "[encoded data removed]",
      "text/plain": [
       "<matplotlib.figure.Figure at 0x11683e748>"
      ]
     },
     "metadata": {},
     "output_type": "display_data"
    }
   ],
   "source": [
    "import scipy.stats as stats\n",
    "import pylab\n",
    "stats.probplot(out, dist=\"norm\", plot=pylab)"
   ]
  },
  {
   "cell_type": "code",
   "execution_count": 15,
   "metadata": {
    "ExecuteTime": {
     "end_time": "2017-07-05T00:27:46.833067Z",
     "start_time": "2017-07-05T00:27:46.825216Z"
    }
   },
   "outputs": [
    {
     "data": {
      "text/plain": [
       "(0.8319584131240845, 0.0)"
      ]
     },
     "execution_count": 15,
     "metadata": {},
     "output_type": "execute_result"
    }
   ],
   "source": [
    "stats.shapiro(out)"
   ]
  },
  {
   "cell_type": "code",
   "execution_count": 16,
   "metadata": {
    "ExecuteTime": {
     "end_time": "2017-07-05T00:27:46.851817Z",
     "start_time": "2017-07-05T00:27:46.837130Z"
    }
   },
   "outputs": [
    {
     "data": {
      "text/plain": [
       "(0.8145678043365479, 0.0)"
      ]
     },
     "execution_count": 16,
     "metadata": {},
     "output_type": "execute_result"
    }
   ],
   "source": [
    "stats.shapiro(spread.dropna())"
   ]
  },
  {
   "cell_type": "code",
   "execution_count": 17,
   "metadata": {
    "ExecuteTime": {
     "end_time": "2017-07-05T00:27:47.675710Z",
     "start_time": "2017-07-05T00:27:46.854543Z"
    }
   },
   "outputs": [
    {
     "data": {
      "text/plain": [
       "<matplotlib.axes._subplots.AxesSubplot at 0x115ed7c88>"
      ]
     },
     "execution_count": 17,
     "metadata": {},
     "output_type": "execute_result"
    },
    {
     "data": {
      "image/png": "[encoded data removed]",
      "text/plain": [
       "<matplotlib.figure.Figure at 0x1169822b0>"
      ]
     },
     "metadata": {},
     "output_type": "display_data"
    }
   ],
   "source": [
    "spread.plot()"
   ]
  },
  {
   "cell_type": "markdown",
   "metadata": {},
   "source": [
    "# 全データ使う"
   ]
  },
  {
   "cell_type": "code",
   "execution_count": 18,
   "metadata": {
    "ExecuteTime": {
     "end_time": "2017-07-05T00:27:47.823530Z",
     "start_time": "2017-07-05T00:27:47.678996Z"
    },
    "collapsed": true
   },
   "outputs": [],
   "source": [
    "resampled = data.resample(\"10s\").mean().dropna()"
   ]
  },
  {
   "cell_type": "code",
   "execution_count": 19,
   "metadata": {
    "ExecuteTime": {
     "end_time": "2017-07-05T00:27:47.833231Z",
     "start_time": "2017-07-05T00:27:47.825723Z"
    },
    "collapsed": true
   },
   "outputs": [],
   "source": [
    "# dataset Creation\n",
    "training_data = resampled[\"2017-07-02 06:30:00\":]\n",
    "#test_data = resampled[\"2017-07-02 06:30:00\":]"
   ]
  },
  {
   "cell_type": "code",
   "execution_count": 20,
   "metadata": {
    "ExecuteTime": {
     "end_time": "2017-07-05T00:27:48.201259Z",
     "start_time": "2017-07-05T00:27:47.837792Z"
    }
   },
   "outputs": [
    {
     "ename": "NameError",
     "evalue": "name 'test_data' is not defined",
     "output_type": "error",
     "traceback": [
      "\u001b[0;31m---------------------------------------------------------------------------\u001b[0m",
      "\u001b[0;31mNameError\u001b[0m                                 Traceback (most recent call last)",
      "\u001b[0;32m<ipython-input-20-9ab23ac1eb5c>\u001b[0m in \u001b[0;36m<module>\u001b[0;34m()\u001b[0m\n\u001b[0;32m----> 1\u001b[0;31m \u001b[0mtest_data\u001b[0m\u001b[0;34m[\u001b[0m\u001b[0;34m\"price\"\u001b[0m\u001b[0;34m]\u001b[0m\u001b[0;34m.\u001b[0m\u001b[0mplot\u001b[0m\u001b[0;34m(\u001b[0m\u001b[0;34m)\u001b[0m\u001b[0;34m\u001b[0m\u001b[0m\n\u001b[0m",
      "\u001b[0;31mNameError\u001b[0m: name 'test_data' is not defined"
     ]
    }
   ],
   "source": [
    "test_data[\"price\"].plot()"
   ]
  },
  {
   "cell_type": "code",
   "execution_count": null,
   "metadata": {
    "ExecuteTime": {
     "end_time": "2017-07-05T00:27:48.205899Z",
     "start_time": "2017-07-05T00:27:40.222Z"
    },
    "collapsed": true
   },
   "outputs": [],
   "source": [
    "training_data[\"price\"].plot()"
   ]
  },
  {
   "cell_type": "code",
   "execution_count": null,
   "metadata": {
    "ExecuteTime": {
     "end_time": "2017-07-05T00:27:48.208465Z",
     "start_time": "2017-07-05T00:27:40.225Z"
    },
    "collapsed": true
   },
   "outputs": [],
   "source": [
    "rolling_diff_1M = training_data.rolling(6).mean()[\"price\"].diff().dropna()\n",
    "rolling_diff_5M = training_data.rolling(30).mean()[\"price\"].diff().dropna()\n",
    "rolling_diff_10M = training_data.rolling(60).mean()[\"price\"].diff().dropna()"
   ]
  },
  {
   "cell_type": "code",
   "execution_count": null,
   "metadata": {
    "ExecuteTime": {
     "end_time": "2017-07-05T00:27:48.210877Z",
     "start_time": "2017-07-05T00:27:40.232Z"
    },
    "collapsed": true
   },
   "outputs": [],
   "source": [
    "rolling_diff_df = pandas.concat([rolling_diff_1M, rolling_diff_5M, rolling_diff_10M], axis=1).dropna()\n",
    "rolling_diff_df.columns = [\"1M\", \"5M\", \"10M\"]"
   ]
  },
  {
   "cell_type": "code",
   "execution_count": null,
   "metadata": {
    "ExecuteTime": {
     "end_time": "2017-07-05T00:27:48.212973Z",
     "start_time": "2017-07-05T00:27:40.236Z"
    },
    "collapsed": true
   },
   "outputs": [],
   "source": [
    "rolling_diff_df.plot()"
   ]
  },
  {
   "cell_type": "code",
   "execution_count": null,
   "metadata": {
    "ExecuteTime": {
     "end_time": "2017-07-05T00:27:48.215998Z",
     "start_time": "2017-07-05T00:27:40.241Z"
    },
    "collapsed": true,
    "scrolled": true
   },
   "outputs": [],
   "source": [
    "rolling_1M = training_data.rolling(6).mean()[\"price\"].dropna()\n",
    "rolling_5M = training_data.rolling(30).mean()[\"price\"].dropna()\n",
    "rolling_10M = training_data.rolling(360).mean()[\"price\"].dropna()\n",
    "\n",
    "rolling_df = pandas.concat([rolling_1M, rolling_5M, rolling_10M], axis=1).dropna()\n",
    "rolling_df.columns = [\"1M\", \"5M\", \"10M\"]\n",
    "\n",
    "rolling_df.plot()"
   ]
  },
  {
   "cell_type": "code",
   "execution_count": null,
   "metadata": {
    "ExecuteTime": {
     "end_time": "2017-07-05T00:27:48.220121Z",
     "start_time": "2017-07-05T00:27:40.244Z"
    },
    "collapsed": true
   },
   "outputs": [],
   "source": [
    "# Detect Golden Cross / Dead Cross\n",
    "def golden_detect(latest_3_df: pandas.DataFrame) -> bool:\n",
    "    \"\"\"\n",
    "    >>> df = {'10M': {Timestamp('2017-06-30 16:35:20'): 282846.5542856449,\n",
    "  Timestamp('2017-06-30 16:35:30'): 282849.31539675605,\n",
    "  Timestamp('2017-06-30 16:35:40'): 282849.89873008936},\n",
    " '1M': {Timestamp('2017-06-30 16:35:20'): 282971.85019841272,\n",
    "  Timestamp('2017-06-30 16:35:30'): 282930.29464285716,\n",
    "  Timestamp('2017-06-30 16:35:40'): 282899.52083333331},\n",
    " '5M': {Timestamp('2017-06-30 16:35:20'): 282863.28952367074,\n",
    "  Timestamp('2017-06-30 16:35:30'): 282869.81174589298,\n",
    "  Timestamp('2017-06-30 16:35:40'): 282871.70222208346}}\n",
    "    >>> df = pandas.DataFrame.from_dict(df)\n",
    "    >>> golden_detect(df)\n",
    "  \"\"\"\n",
    "    "
   ]
  },
  {
   "cell_type": "code",
   "execution_count": null,
   "metadata": {
    "collapsed": true
   },
   "outputs": [],
   "source": []
  }
 ],
 "metadata": {
  "kernelspec": {
   "display_name": "Python 3",
   "language": "python",
   "name": "python3"
  },
  "language_info": {
   "codemirror_mode": {
    "name": "ipython",
    "version": 3
   },
   "file_extension": ".py",
   "mimetype": "text/x-python",
   "name": "python",
   "nbconvert_exporter": "python",
   "pygments_lexer": "ipython3",
   "version": "3.6.0"
  },
  "nav_menu": {},
  "toc": {
   "navigate_menu": true,
   "number_sections": true,
   "sideBar": true,
   "threshold": 6,
   "toc_cell": false,
   "toc_section_display": "block",
   "toc_window_display": false
  }
 },
 "nbformat": 4,
 "nbformat_minor": 2
}
